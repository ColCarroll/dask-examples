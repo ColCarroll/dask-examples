{
 "cells": [
  {
   "cell_type": "markdown",
   "metadata": {},
   "source": [
    "# Basics of Dask Dataframe"
   ]
  },
  {
   "cell_type": "markdown",
   "metadata": {},
   "source": [
    "This notebook goes through the basics of using ``dask.dataframe``. We do the following\n",
    "\n",
    "1. Create a fake dataset\n",
    "2. Load datafrom csvs\n",
    "3. Perform some computations\n",
    "4. Output results to file or as plots"
   ]
  },
  {
   "cell_type": "markdown",
   "metadata": {},
   "source": [
    "## 1. Create a fake dataset\n",
    "\n",
    "We create a few fake dataframes, and save them as csvs."
   ]
  },
  {
   "cell_type": "code",
   "execution_count": 1,
   "metadata": {
    "collapsed": false
   },
   "outputs": [],
   "source": [
    "import pandas as pd\n",
    "import numpy as np\n",
    "for year in range(2000, 2005):\n",
    "    idx = pd.date_range(str(year), str(year + 1), freq='d', closed='left')\n",
    "    pd.DataFrame({'A': np.random.randn(len(idx)), \n",
    "                  'B': np.random.randint(len(idx))},\n",
    "                 index=idx).to_csv('{0}.csv'.format(year), index_label='date')"
   ]
  },
  {
   "cell_type": "markdown",
   "metadata": {},
   "source": [
    "## 2. Load data from csvs"
   ]
  },
  {
   "cell_type": "markdown",
   "metadata": {},
   "source": [
    "We can load multiple `csv` files into `dask.dataframe` using the `read_csv` function. This supports [globbing](https://en.wikipedia.org/wiki/Glob_%28programming%29) on filenames, and will sort them alphabetically. This results in a single `dask.dataframe.DataFrame` of all data from 2000 to 2005.\n",
    "\n",
    "To tell `dask` to use the `'date'` column as the index, we'll also use the `set_index` method. These can be chained, allowing the dataframe to be created in a single line."
   ]
  },
  {
   "cell_type": "code",
   "execution_count": 2,
   "metadata": {
    "collapsed": false
   },
   "outputs": [
    {
     "data": {
      "text/html": [
       "<div>\n",
       "<table border=\"1\" class=\"dataframe\">\n",
       "  <thead>\n",
       "    <tr style=\"text-align: right;\">\n",
       "      <th></th>\n",
       "      <th>A</th>\n",
       "      <th>B</th>\n",
       "    </tr>\n",
       "    <tr>\n",
       "      <th>date</th>\n",
       "      <th></th>\n",
       "      <th></th>\n",
       "    </tr>\n",
       "  </thead>\n",
       "  <tbody>\n",
       "    <tr>\n",
       "      <th>2000-01-01</th>\n",
       "      <td>-0.928750</td>\n",
       "      <td>280</td>\n",
       "    </tr>\n",
       "    <tr>\n",
       "      <th>2000-01-02</th>\n",
       "      <td>-0.711634</td>\n",
       "      <td>280</td>\n",
       "    </tr>\n",
       "    <tr>\n",
       "      <th>2000-01-03</th>\n",
       "      <td>-0.426995</td>\n",
       "      <td>280</td>\n",
       "    </tr>\n",
       "    <tr>\n",
       "      <th>2000-01-04</th>\n",
       "      <td>-1.698917</td>\n",
       "      <td>280</td>\n",
       "    </tr>\n",
       "    <tr>\n",
       "      <th>2000-01-05</th>\n",
       "      <td>1.901336</td>\n",
       "      <td>280</td>\n",
       "    </tr>\n",
       "  </tbody>\n",
       "</table>\n",
       "</div>"
      ],
      "text/plain": [
       "                   A    B\n",
       "date                     \n",
       "2000-01-01 -0.928750  280\n",
       "2000-01-02 -0.711634  280\n",
       "2000-01-03 -0.426995  280\n",
       "2000-01-04 -1.698917  280\n",
       "2000-01-05  1.901336  280"
      ]
     },
     "execution_count": 2,
     "metadata": {},
     "output_type": "execute_result"
    }
   ],
   "source": [
    "import dask.dataframe as dd\n",
    "\n",
    "df = dd.read_csv('*.csv').set_index('date')\n",
    "df.head()"
   ]
  },
  {
   "cell_type": "markdown",
   "metadata": {},
   "source": [
    "Dask `DataFrame` objects are partitioned into multiple frames along the index. To see how the dataframe is partitioned, you can look at its `divisions` attribute:"
   ]
  },
  {
   "cell_type": "code",
   "execution_count": 3,
   "metadata": {
    "collapsed": false
   },
   "outputs": [
    {
     "data": {
      "text/plain": [
       "('2000-01-01',\n",
       " '2000-12-31',\n",
       " '2001-12-31',\n",
       " '2003-01-01',\n",
       " '2004-01-01',\n",
       " '2004-12-31')"
      ]
     },
     "execution_count": 3,
     "metadata": {},
     "output_type": "execute_result"
    }
   ],
   "source": [
    "df.divisions"
   ]
  },
  {
   "cell_type": "markdown",
   "metadata": {},
   "source": [
    "## 3. Perform some computations"
   ]
  },
  {
   "cell_type": "markdown",
   "metadata": {},
   "source": [
    "`dask.dataframe` mirrors the [pandas](http://pandas.pydata.org/) api. We can perform arithmetic, reductions, selections, etc... with the same syntax used by pandas.\n",
    "\n",
    "The main difference is that we'll need to add a `.compute()` to our final result."
   ]
  },
  {
   "cell_type": "code",
   "execution_count": 4,
   "metadata": {
    "collapsed": false
   },
   "outputs": [
    {
     "data": {
      "text/plain": [
       "dd.Series<series-index-set-partition--collect-f2f64a639a376601d6c253dc1ca8e4dc.A[elemwise-ab0affb8c9739c38e73d8d01a529faef], divisions=('2000-01-01', '2000-12-31', '2001-12-31', '2003-01-01', '2004-01-01', '2004-12-31')>"
      ]
     },
     "execution_count": 4,
     "metadata": {},
     "output_type": "execute_result"
    }
   ],
   "source": [
    "df.A[df.A > 3]"
   ]
  },
  {
   "cell_type": "markdown",
   "metadata": {},
   "source": [
    "Instead of a pandas `Series` object, this returns a dask `Series`. To perform the computation and get a pandas object, one needs to append a call to `compute()`."
   ]
  },
  {
   "cell_type": "code",
   "execution_count": 5,
   "metadata": {
    "collapsed": false
   },
   "outputs": [
    {
     "data": {
      "text/plain": [
       "date\n",
       "2001-03-20    3.116674\n",
       "2004-12-31    3.067005\n",
       "Name: A, dtype: float64"
      ]
     },
     "execution_count": 5,
     "metadata": {},
     "output_type": "execute_result"
    }
   ],
   "source": [
    "df.A[df.A > 3].compute()"
   ]
  },
  {
   "cell_type": "markdown",
   "metadata": {},
   "source": [
    "`dask.dataframe` supports a common subset of the pandas api. For a full list of supported operations, see the [documentation](http://dask.pydata.org/en/latest/dataframe.html). We'll do a few more computations below:"
   ]
  },
  {
   "cell_type": "code",
   "execution_count": 6,
   "metadata": {
    "collapsed": false
   },
   "outputs": [
    {
     "data": {
      "text/plain": [
       "106258"
      ]
     },
     "execution_count": 6,
     "metadata": {},
     "output_type": "execute_result"
    }
   ],
   "source": [
    "df.B[(df.A > 0) & (df.A < 3)].sum().compute()"
   ]
  },
  {
   "cell_type": "code",
   "execution_count": 7,
   "metadata": {
    "collapsed": false
   },
   "outputs": [
    {
     "data": {
      "text/plain": [
       "B\n",
       "0    1096\n",
       "1     731\n",
       "dtype: int64"
      ]
     },
     "execution_count": 7,
     "metadata": {},
     "output_type": "execute_result"
    }
   ],
   "source": [
    "df.B.groupby(df.B % 2).count().compute()"
   ]
  },
  {
   "cell_type": "markdown",
   "metadata": {},
   "source": [
    "## 4. Output results"
   ]
  },
  {
   "cell_type": "markdown",
   "metadata": {},
   "source": [
    "After doing our heavy computation or data reduction in dask.array we would like to either store our results on disk, or transfer our smaller results to numpy arrays so that we can interact with the rest of the PyData ecosystem.\n",
    "\n",
    "- Use `.compute()` to create a pandas object\n",
    "- Use `.to_csv()`, `.to_hdf()` or `.to_castra()` to store to disk\n",
    "- Depend upon the `__array__` protocol for automatic conversion with other projects"
   ]
  },
  {
   "cell_type": "markdown",
   "metadata": {},
   "source": [
    "### Use `.compute()` to create a pandas object\n",
    "\n",
    "As we've already seen, the `.compute()` method performs computation and turns our lazily evaluated dask objects into pandas objects:"
   ]
  },
  {
   "cell_type": "code",
   "execution_count": 8,
   "metadata": {
    "collapsed": false
   },
   "outputs": [
    {
     "data": {
      "text/plain": [
       "date\n",
       "2001-03-20    3.116674\n",
       "2004-12-31    3.067005\n",
       "Name: A, dtype: float64"
      ]
     },
     "execution_count": 8,
     "metadata": {},
     "output_type": "execute_result"
    }
   ],
   "source": [
    "x = df.A[df.A > 3]\n",
    "x.compute()"
   ]
  },
  {
   "cell_type": "markdown",
   "metadata": {},
   "source": [
    "### Store to file\n",
    "\n",
    "You can store your result to a file using one of the `to_*` methods:\n",
    "\n",
    "- `to_csv`: writes a csv\n",
    "- `to_hdf`: writes a hdf5 file using [PyTables](http://www.pytables.org/)\n",
    "- `to_castra`: writes your data as a [castra](https://github.com/blaze/castra)"
   ]
  },
  {
   "cell_type": "code",
   "execution_count": 9,
   "metadata": {
    "collapsed": true
   },
   "outputs": [],
   "source": [
    "res = df[df.A > 0]"
   ]
  },
  {
   "cell_type": "code",
   "execution_count": 10,
   "metadata": {
    "collapsed": false
   },
   "outputs": [],
   "source": [
    "res.to_csv('my_data.csv')"
   ]
  },
  {
   "cell_type": "markdown",
   "metadata": {},
   "source": [
    "### Plot with Matplotlib\n",
    "\n",
    "Because `dask.dataframe` objects implement the `__array__` protocol they often just work with other libraries in the ecosystem. In the example below we pass a `dd.Series` object directly into a `matplotlib` function."
   ]
  },
  {
   "cell_type": "code",
   "execution_count": 11,
   "metadata": {
    "collapsed": true
   },
   "outputs": [],
   "source": [
    "from matplotlib import pyplot as plt\n",
    "%matplotlib inline"
   ]
  },
  {
   "cell_type": "code",
   "execution_count": 12,
   "metadata": {
    "collapsed": false
   },
   "outputs": [
    {
     "data": {
      "text/plain": [
       "[<matplotlib.lines.Line2D at 0x110c8ddd0>]"
      ]
     },
     "execution_count": 12,
     "metadata": {},
     "output_type": "execute_result"
    },
    {
     "data": {
      "image/png": "[encoded data removed]",
      "text/plain": [
       "<matplotlib.figure.Figure at 0x110b5d450>"
      ]
     },
     "metadata": {},
     "output_type": "display_data"
    }
   ],
   "source": [
    "plt.plot(df.A)"
   ]
  },
  {
   "cell_type": "markdown",
   "metadata": {},
   "source": [
    "Of course, as performing `compute()` returns a `pandas.Series`, you can also just have the `Series` plot itself:"
   ]
  },
  {
   "cell_type": "code",
   "execution_count": 13,
   "metadata": {
    "collapsed": false
   },
   "outputs": [
    {
     "data": {
      "text/plain": [
       "<matplotlib.axes._subplots.AxesSubplot at 0x110c3f710>"
      ]
     },
     "execution_count": 13,
     "metadata": {},
     "output_type": "execute_result"
    },
    {
     "data": {
      "image/png": "[encoded data removed]",
      "text/plain": [
       "<matplotlib.figure.Figure at 0x110b75dd0>"
      ]
     },
     "metadata": {},
     "output_type": "display_data"
    }
   ],
   "source": [
    "df.A.compute().plot()"
   ]
  }
 ],
 "metadata": {
  "kernelspec": {
   "display_name": "Python 2",
   "language": "python",
   "name": "python2"
  },
  "language_info": {
   "codemirror_mode": {
    "name": "ipython",
    "version": 2
   },
   "file_extension": ".py",
   "mimetype": "text/x-python",
   "name": "python",
   "nbconvert_exporter": "python",
   "pygments_lexer": "ipython2",
   "version": "2.7.10"
  }
 },
 "nbformat": 4,
 "nbformat_minor": 0
}
