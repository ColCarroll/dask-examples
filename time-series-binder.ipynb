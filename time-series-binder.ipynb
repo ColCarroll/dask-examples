{
 "cells": [
  {
   "cell_type": "markdown",
   "metadata": {},
   "source": [
    "<img src=http://blaze.github.io/images/blaze.png align=right>\n",
    "\n",
    "Time Series with dask.dataframe\n",
    "==================\n",
    "\n",
    "[Dask.dataframe](dask.pydata.org/en/latest/dataframe.html) inherits timeseries functionality from Pandas.  \n",
    "\n",
    "This notebook shows off a few time series functions on artificial but moderately large data. Be aware that performance can fluctuate since this is hosted on a shared machine with only one accessible core. A static notebook with more data and profiling on a larger machine can be viewed [here](http://nbviewer.ipython.org/github/blaze/dask-examples/blob/master/time-series.ipynb).\n",
    "\n",
    "The interface should look familiar to existing Pandas users."
   ]
  },
  {
   "cell_type": "markdown",
   "metadata": {},
   "source": [
    "Setup\n",
    "------\n",
    "\n",
    "We import dask.dataframe and set up a progress bar to measure performance."
   ]
  },
  {
   "cell_type": "code",
   "execution_count": 1,
   "metadata": {
    "collapsed": false
   },
   "outputs": [],
   "source": [
    "import dask.dataframe as dd\n",
    "from dask.diagnostics import ProgressBar\n",
    "\n",
    "progress_bar = ProgressBar()\n",
    "progress_bar.register()   # turn on progressbar globally"
   ]
  },
  {
   "cell_type": "code",
   "execution_count": 2,
   "metadata": {
    "collapsed": true
   },
   "outputs": [],
   "source": [
    "%matplotlib inline"
   ]
  },
  {
   "cell_type": "markdown",
   "metadata": {},
   "source": [
    "Random data\n",
    "-------------\n",
    "\n",
    "We construct some random data.\n"
   ]
  },
  {
   "cell_type": "code",
   "execution_count": 3,
   "metadata": {
    "collapsed": false
   },
   "outputs": [
    {
     "name": "stdout",
     "output_type": "stream",
     "text": [
      "[########################################] | 100% Completed |  1.3s\n"
     ]
    },
    {
     "data": {
      "text/html": [
       "<div>\n",
       "<table border=\"1\" class=\"dataframe\">\n",
       "  <thead>\n",
       "    <tr style=\"text-align: right;\">\n",
       "      <th></th>\n",
       "      <th>A</th>\n",
       "      <th>B</th>\n",
       "    </tr>\n",
       "  </thead>\n",
       "  <tbody>\n",
       "    <tr>\n",
       "      <th>2000-01-31 00:00:00</th>\n",
       "      <td>-0.391541</td>\n",
       "      <td>1014</td>\n",
       "    </tr>\n",
       "    <tr>\n",
       "      <th>2000-01-31 00:00:01</th>\n",
       "      <td>0.742456</td>\n",
       "      <td>970</td>\n",
       "    </tr>\n",
       "    <tr>\n",
       "      <th>2000-01-31 00:00:02</th>\n",
       "      <td>-0.076128</td>\n",
       "      <td>1000</td>\n",
       "    </tr>\n",
       "    <tr>\n",
       "      <th>2000-01-31 00:00:03</th>\n",
       "      <td>0.330338</td>\n",
       "      <td>919</td>\n",
       "    </tr>\n",
       "    <tr>\n",
       "      <th>2000-01-31 00:00:04</th>\n",
       "      <td>-0.527135</td>\n",
       "      <td>1028</td>\n",
       "    </tr>\n",
       "  </tbody>\n",
       "</table>\n",
       "</div>"
      ],
      "text/plain": [
       "                            A     B\n",
       "2000-01-31 00:00:00 -0.391541  1014\n",
       "2000-01-31 00:00:01  0.742456   970\n",
       "2000-01-31 00:00:02 -0.076128  1000\n",
       "2000-01-31 00:00:03  0.330338   919\n",
       "2000-01-31 00:00:04 -0.527135  1028"
      ]
     },
     "execution_count": 3,
     "metadata": {},
     "output_type": "execute_result"
    }
   ],
   "source": [
    "import dask.dataframe as dd\n",
    "\n",
    "df = dd.demo.make_timeseries(start='2000', end='2005', dtypes={'A': float, 'B': int},\n",
    "                             freq='1s', partition_freq='3M', seed=1234)\n",
    "df.head()"
   ]
  },
  {
   "cell_type": "markdown",
   "metadata": {},
   "source": [
    "Base Data on Disk\n",
    "--------------------\n",
    "\n",
    "This will stop us from having to recompute the same random numbers constantly.  Reading from disk ends up being a bit faster."
   ]
  },
  {
   "cell_type": "code",
   "execution_count": 4,
   "metadata": {
    "collapsed": false
   },
   "outputs": [
    {
     "name": "stdout",
     "output_type": "stream",
     "text": [
      "[########################################] | 100% Completed | 31.6s\n"
     ]
    }
   ],
   "source": [
    "c = df.to_castra()\n",
    "df = c.to_dask()"
   ]
  },
  {
   "cell_type": "markdown",
   "metadata": {},
   "source": [
    "Cumulative Sum, datetime resampling, and plotting\n",
    "--------------------------------------------------------\n",
    "\n",
    "We compute the cumulative sum of the `A` column.  This will look like typical Brownian motion / a ticker plot.  However the resolution of one second over 15 years is too big to give to matplotlib so instead we resample to weekly values.  Finally we compute the result as a (small) pandas DataFrame and use Pandas and matplotlib to plot the results."
   ]
  },
  {
   "cell_type": "code",
   "execution_count": 5,
   "metadata": {
    "collapsed": false
   },
   "outputs": [
    {
     "name": "stdout",
     "output_type": "stream",
     "text": [
      "[########################################] | 100% Completed | 14.4s\n"
     ]
    },
    {
     "data": {
      "text/plain": [
       "<matplotlib.axes._subplots.AxesSubplot at 0x7f4bea9ea310>"
      ]
     },
     "execution_count": 5,
     "metadata": {},
     "output_type": "execute_result"
    },
    {
     "data": {
      "image/png": "[encoded data removed]",
      "text/plain": [
       "<matplotlib.figure.Figure at 0x7f4c00c96d10>"
      ]
     },
     "metadata": {},
     "output_type": "display_data"
    }
   ],
   "source": [
    "df.A.cumsum().resample('1w', how='mean').compute().plot()"
   ]
  },
  {
   "cell_type": "markdown",
   "metadata": {},
   "source": [
    "## What was our computational bandwidth?"
   ]
  },
  {
   "cell_type": "code",
   "execution_count": 6,
   "metadata": {
    "collapsed": false
   },
   "outputs": [
    {
     "name": "stdout",
     "output_type": "stream",
     "text": [
      "[########################################] | 100% Completed |  3.3s\n"
     ]
    }
   ],
   "source": [
    "duration = progress_bar.last_duration\n",
    "nbytes = df.A.nbytes.compute()"
   ]
  },
  {
   "cell_type": "code",
   "execution_count": 7,
   "metadata": {
    "collapsed": false
   },
   "outputs": [
    {
     "data": {
      "text/plain": [
       "83.27724734662965"
      ]
     },
     "execution_count": 7,
     "metadata": {},
     "output_type": "execute_result"
    }
   ],
   "source": [
    "nbytes / 1e6 / duration  # MB/s"
   ]
  }
 ],
 "metadata": {
  "kernelspec": {
   "display_name": "Python 2",
   "language": "python",
   "name": "python2"
  },
  "language_info": {
   "codemirror_mode": {
    "name": "ipython",
    "version": 2
   },
   "file_extension": ".py",
   "mimetype": "text/x-python",
   "name": "python",
   "nbconvert_exporter": "python",
   "pygments_lexer": "ipython2",
   "version": "2.7.10"
  }
 },
 "nbformat": 4,
 "nbformat_minor": 0
}
