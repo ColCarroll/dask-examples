{
 "cells": [
  {
   "cell_type": "markdown",
   "metadata": {},
   "source": [
    "NYCTaxi 2013\n",
    "===========\n",
    "\n",
    "In 2014 Chris Whong successfully submitted a FOIA request to obtain the records of all taxi rides in New York City for the year of 2013.  \n",
    "\n",
    "http://chriswhong.com/open-data/foil_nyc_taxi/\n",
    "\n",
    "We use [dask.dataframe](dask.pydata.org/en/latest/dataframe.html) and [castra](github.com/blaze/castra) to interact with this data."
   ]
  },
  {
   "cell_type": "markdown",
   "metadata": {},
   "source": [
    "### Download and untar\n",
    "\n",
    "This should take less than two minutes if running on Google Compute Engine (via binder.)  If running on your own hardware then please be mindful of repeated downloads.  (Moving this dataset outside of the cloud costs us about $1.)"
   ]
  },
  {
   "cell_type": "code",
   "execution_count": null,
   "metadata": {
    "collapsed": false
   },
   "outputs": [],
   "source": [
    "!wget  https://storage.googleapis.com/blaze-data/nyc-taxi/castra/nyc-taxi-2013.castra.tar"
   ]
  },
  {
   "cell_type": "code",
   "execution_count": null,
   "metadata": {
    "collapsed": true
   },
   "outputs": [],
   "source": [
    "# This takes about a minute\n",
    "!tar -xf nyc-taxi-2013.castra.tar"
   ]
  },
  {
   "cell_type": "markdown",
   "metadata": {},
   "source": [
    "### Wrap with dask.dataframe"
   ]
  },
  {
   "cell_type": "code",
   "execution_count": null,
   "metadata": {
    "collapsed": false
   },
   "outputs": [],
   "source": [
    "import dask.dataframe as dd\n",
    "df = dd.from_castra('tripdata.castra/')\n",
    "df.head()"
   ]
  },
  {
   "cell_type": "markdown",
   "metadata": {},
   "source": [
    "### Set up progress bar\n",
    "\n",
    "This lets us know how long our `dask.dataframe` computations take."
   ]
  },
  {
   "cell_type": "code",
   "execution_count": null,
   "metadata": {
    "collapsed": true
   },
   "outputs": [],
   "source": [
    "from dask.diagnostics import ProgressBar\n",
    "progress_bar = ProgressBar()\n",
    "progress_bar.register()"
   ]
  },
  {
   "cell_type": "markdown",
   "metadata": {},
   "source": [
    "## Play\n",
    "\n"
   ]
  },
  {
   "cell_type": "markdown",
   "metadata": {},
   "source": [
    "### How many passengers per ride?"
   ]
  },
  {
   "cell_type": "code",
   "execution_count": null,
   "metadata": {
    "collapsed": false
   },
   "outputs": [],
   "source": [
    "df.passenger_count.value_counts().compute()"
   ]
  },
  {
   "cell_type": "markdown",
   "metadata": {},
   "source": [
    "### How many medallions on the road per day?"
   ]
  },
  {
   "cell_type": "code",
   "execution_count": null,
   "metadata": {
    "collapsed": false
   },
   "outputs": [],
   "source": [
    "%matplotlib inline\n",
    "df.medallion.resample('1d', how='nunique').compute().plot()"
   ]
  },
  {
   "cell_type": "markdown",
   "metadata": {},
   "source": [
    "### Lets consider this per hour\n",
    "\n",
    "We'll have to switch from matplotlib to bokeh so that we can zoom around"
   ]
  },
  {
   "cell_type": "code",
   "execution_count": null,
   "metadata": {
    "collapsed": false
   },
   "outputs": [],
   "source": [
    "hourly = df.medallion.resample('1h', how='nunique').compute()"
   ]
  },
  {
   "cell_type": "code",
   "execution_count": null,
   "metadata": {
    "collapsed": false
   },
   "outputs": [],
   "source": [
    "from bokeh.charts import TimeSeries, output_notebook, show\n",
    "output_notebook()\n",
    "\n",
    "fig = TimeSeries(hourly.values, hourly.index, title='Cabs on the road',\n",
    "                 xlabel='Time', ylabel='Number of cabs')\n",
    "show(fig)"
   ]
  },
  {
   "cell_type": "markdown",
   "metadata": {},
   "source": [
    "Next we will visualize the pickup locations. "
   ]
  },
  {
   "cell_type": "code",
   "execution_count": null,
   "metadata": {
    "collapsed": false
   },
   "outputs": [],
   "source": [
    "df2 = df.sample(frac=0.0001)\n",
    "# Remove some outliers\n",
    "df3 = df2[(df2.pickup_latitude > 40) &\n",
    "          (df2.pickup_latitude < 42) & \n",
    "          (df2.pickup_longitude > -75) & \n",
    "          (df2.pickup_longitude < -72)]\n",
    "pickup = df3[['pickup_latitude', 'pickup_longitude']]\n",
    "\n",
    "\n",
    "result = pickup.compute()"
   ]
  },
  {
   "cell_type": "code",
   "execution_count": null,
   "metadata": {
    "collapsed": false
   },
   "outputs": [],
   "source": [
    "from bokeh.plotting import figure, show\n",
    "\n",
    "p = figure(title=\"Pickup Locations\")\n",
    "p.scatter(result.pickup_longitude, result.pickup_latitude, size=3, alpha=0.2, notebook=True)\n",
    "show(p)"
   ]
  },
  {
   "cell_type": "markdown",
   "metadata": {},
   "source": [
    "Next we plot a histogram of the distances travelled."
   ]
  },
  {
   "cell_type": "code",
   "execution_count": null,
   "metadata": {
    "collapsed": false
   },
   "outputs": [],
   "source": [
    "km_per_degree_latitude = 110.0  # at 40 degrees \n",
    "km_per_degree_longitude = 85.0  # from http://www.csgnetwork.com/degreelenllavcalc.html\n",
    "\n",
    "with ProgressBar():\n",
    "    distance = ((km_per_degree_latitude * (df3.pickup_latitude - df3.dropoff_latitude))**2\n",
    "              + (km_per_degree_longitude * (df3.pickup_longitude - df3.dropoff_longitude))**2)**0.5\n",
    "    hist = (distance // 1).value_counts().compute().sort_index()  # truncate then count\n",
    "hist.head()"
   ]
  },
  {
   "cell_type": "code",
   "execution_count": null,
   "metadata": {
    "collapsed": false
   },
   "outputs": [],
   "source": [
    "p = figure(title=\"Binned distance frequencies (degrees)\",\n",
    "           y_axis_type=\"log\")\n",
    "p.line(hist.loc[:100].index.values, hist.loc[:100].values)\n",
    "show(p)"
   ]
  },
  {
   "cell_type": "markdown",
   "metadata": {},
   "source": [
    "Notice the interesting spikes around 20 kms, these are probably trips to the airport."
   ]
  }
 ],
 "metadata": {
  "kernelspec": {
   "display_name": "Python 2",
   "language": "python",
   "name": "python2"
  },
  "language_info": {
   "codemirror_mode": {
    "name": "ipython",
    "version": 2
   },
   "file_extension": ".py",
   "mimetype": "text/x-python",
   "name": "python",
   "nbconvert_exporter": "python",
   "pygments_lexer": "ipython2",
   "version": "2.7.10"
  }
 },
 "nbformat": 4,
 "nbformat_minor": 0
}
